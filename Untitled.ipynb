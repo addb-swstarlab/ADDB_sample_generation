{
 "cells": [
  {
   "cell_type": "code",
   "execution_count": 1,
   "id": "d5b5256b",
   "metadata": {
    "scrolled": true
   },
   "outputs": [],
   "source": [
    "from knobs.knob_infos import spark, redis, rocksdb\n",
    "from pyDOE import *\n",
    "from scipy.stats.distributions import norm"
   ]
  },
  {
   "cell_type": "code",
   "execution_count": 2,
   "id": "7324d21c",
   "metadata": {},
   "outputs": [],
   "source": [
    "def LH_Sampling(dbms, sample_num):\n",
    "    lhd = lhs(len(dbms.knob_names), samples=sample_num)\n",
    "    \n",
    "    for i, k in enumerate(dbms.knob_names):\n",
    "        normed_data = norm(loc=dbms.mean[i], scale=dbms.std[i]).ppf(lhd[:, i])\n",
    "        normed_data = np.round(normed_data)\n",
    "\n",
    "        if k in dbms.continuous_names:\n",
    "            normed_data = np.where(normed_data < dbms.continuous[k][0], dbms.continuous[k][0], normed_data)\n",
    "            normed_data = np.where(normed_data > dbms.continuous[k][1], dbms.continuous[k][1], normed_data)\n",
    "        if dbms.numeric_cat_names is not None and k in dbms.numeric_cat_names:\n",
    "            normed_data = np.where(normed_data <= 0, 0, normed_data)\n",
    "            normed_data = np.where(normed_data > len(dbms.numeric_cat[k][0])-1, len(dbms.numeric_cat[k][0])-1, normed_data)\n",
    "        if dbms.string_cat_names is not None and k in dbms.string_cat_names:\n",
    "            normed_data = np.where(normed_data <= 0, 0, normed_data)\n",
    "            normed_data = np.where(normed_data > len(dbms.string_cat[k][0])-1, len(dbms.string_cat[k][0])-1, normed_data)\n",
    "#         if k in dbms.boolean_names:\n",
    "#             normed_data = np.where(normed_data <= 0, 0, normed_data)\n",
    "#             normed_data = np.where(normed_data > 1, 1, normed_data)\n",
    "\n",
    "        lhd[:, i] = normed_data\n",
    "    lhd = np.round(lhd)\n",
    "\n",
    "    for i, k in enumerate(dbms.knob_names):\n",
    "        if dbms.numeric_cat_names is not None and k in dbms.numeric_cat_names:\n",
    "            normed_data = lhd[:, i]\n",
    "            for n, idx in enumerate(normed_data):\n",
    "                normed_data[n] = dbms.numeric_cat[k][0][int(idx)]\n",
    "            lhd[:, i] = normed_data.astype(float)\n",
    "            \n",
    "#         if k in dbms.string_cat_names:\n",
    "#             normed_data = lhd[:, i]\n",
    "#             for n, idx in enumerate(normed_data):\n",
    "# #                 print(dbms.string_cat[k][0])\n",
    "#                 normed_data[n] = dbms.string_cat[k][0][int(idx)]\n",
    "#             lhd[:, i] = normed_data\n",
    "            \n",
    "    return lhd"
   ]
  },
  {
   "cell_type": "code",
   "execution_count": 3,
   "id": "82214bbc",
   "metadata": {
    "scrolled": false
   },
   "outputs": [],
   "source": [
    "rocksdb_samples = LH_Sampling(rocksdb, 20)\n",
    "spark_samples = LH_Sampling(spark, 20)\n",
    "redis_samples = LH_Sampling(redis, 20)"
   ]
  },
  {
   "cell_type": "code",
   "execution_count": null,
   "id": "54163f08",
   "metadata": {},
   "outputs": [],
   "source": []
  }
 ],
 "metadata": {
  "kernelspec": {
   "display_name": "[py3.7]",
   "language": "python",
   "name": "py3.7"
  },
  "language_info": {
   "codemirror_mode": {
    "name": "ipython",
    "version": 3
   },
   "file_extension": ".py",
   "mimetype": "text/x-python",
   "name": "python",
   "nbconvert_exporter": "python",
   "pygments_lexer": "ipython3",
   "version": "3.7.11"
  }
 },
 "nbformat": 4,
 "nbformat_minor": 5
}
